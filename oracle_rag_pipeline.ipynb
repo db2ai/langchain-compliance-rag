{
 "cells": [
  {
   "cell_type": "code",
   "execution_count": 1,
   "id": "111de430",
   "metadata": {},
   "outputs": [
    {
     "name": "stdout",
     "output_type": "stream",
     "text": [
      "Requirement already satisfied: openai in /home/acewriter/PROJECT/langchain/venv/lib/python3.12/site-packages (1.93.0)\n",
      "Requirement already satisfied: langchain in /home/acewriter/PROJECT/langchain/venv/lib/python3.12/site-packages (0.3.26)\n",
      "Requirement already satisfied: faiss-cpu in /home/acewriter/PROJECT/langchain/venv/lib/python3.12/site-packages (1.11.0)\n",
      "Requirement already satisfied: anyio<5,>=3.5.0 in /home/acewriter/PROJECT/langchain/venv/lib/python3.12/site-packages (from openai) (4.9.0)\n",
      "Requirement already satisfied: distro<2,>=1.7.0 in /home/acewriter/PROJECT/langchain/venv/lib/python3.12/site-packages (from openai) (1.9.0)\n",
      "Requirement already satisfied: httpx<1,>=0.23.0 in /home/acewriter/PROJECT/langchain/venv/lib/python3.12/site-packages (from openai) (0.28.1)\n",
      "Requirement already satisfied: jiter<1,>=0.4.0 in /home/acewriter/PROJECT/langchain/venv/lib/python3.12/site-packages (from openai) (0.10.0)\n",
      "Requirement already satisfied: pydantic<3,>=1.9.0 in /home/acewriter/PROJECT/langchain/venv/lib/python3.12/site-packages (from openai) (2.11.7)\n",
      "Requirement already satisfied: sniffio in /home/acewriter/PROJECT/langchain/venv/lib/python3.12/site-packages (from openai) (1.3.1)\n",
      "Requirement already satisfied: tqdm>4 in /home/acewriter/PROJECT/langchain/venv/lib/python3.12/site-packages (from openai) (4.67.1)\n",
      "Requirement already satisfied: typing-extensions<5,>=4.11 in /home/acewriter/PROJECT/langchain/venv/lib/python3.12/site-packages (from openai) (4.14.0)\n",
      "Requirement already satisfied: idna>=2.8 in /home/acewriter/PROJECT/langchain/venv/lib/python3.12/site-packages (from anyio<5,>=3.5.0->openai) (3.10)\n",
      "Requirement already satisfied: certifi in /home/acewriter/PROJECT/langchain/venv/lib/python3.12/site-packages (from httpx<1,>=0.23.0->openai) (2025.6.15)\n",
      "Requirement already satisfied: httpcore==1.* in /home/acewriter/PROJECT/langchain/venv/lib/python3.12/site-packages (from httpx<1,>=0.23.0->openai) (1.0.9)\n",
      "Requirement already satisfied: h11>=0.16 in /home/acewriter/PROJECT/langchain/venv/lib/python3.12/site-packages (from httpcore==1.*->httpx<1,>=0.23.0->openai) (0.16.0)\n",
      "Requirement already satisfied: annotated-types>=0.6.0 in /home/acewriter/PROJECT/langchain/venv/lib/python3.12/site-packages (from pydantic<3,>=1.9.0->openai) (0.7.0)\n",
      "Requirement already satisfied: pydantic-core==2.33.2 in /home/acewriter/PROJECT/langchain/venv/lib/python3.12/site-packages (from pydantic<3,>=1.9.0->openai) (2.33.2)\n",
      "Requirement already satisfied: typing-inspection>=0.4.0 in /home/acewriter/PROJECT/langchain/venv/lib/python3.12/site-packages (from pydantic<3,>=1.9.0->openai) (0.4.1)\n",
      "Requirement already satisfied: langchain-core<1.0.0,>=0.3.66 in /home/acewriter/PROJECT/langchain/venv/lib/python3.12/site-packages (from langchain) (0.3.66)\n",
      "Requirement already satisfied: langchain-text-splitters<1.0.0,>=0.3.8 in /home/acewriter/PROJECT/langchain/venv/lib/python3.12/site-packages (from langchain) (0.3.8)\n",
      "Requirement already satisfied: langsmith>=0.1.17 in /home/acewriter/PROJECT/langchain/venv/lib/python3.12/site-packages (from langchain) (0.4.4)\n",
      "Requirement already satisfied: SQLAlchemy<3,>=1.4 in /home/acewriter/PROJECT/langchain/venv/lib/python3.12/site-packages (from langchain) (2.0.41)\n",
      "Requirement already satisfied: requests<3,>=2 in /home/acewriter/PROJECT/langchain/venv/lib/python3.12/site-packages (from langchain) (2.32.4)\n",
      "Requirement already satisfied: PyYAML>=5.3 in /home/acewriter/PROJECT/langchain/venv/lib/python3.12/site-packages (from langchain) (6.0.2)\n",
      "Requirement already satisfied: tenacity!=8.4.0,<10.0.0,>=8.1.0 in /home/acewriter/PROJECT/langchain/venv/lib/python3.12/site-packages (from langchain-core<1.0.0,>=0.3.66->langchain) (9.1.2)\n",
      "Requirement already satisfied: jsonpatch<2.0,>=1.33 in /home/acewriter/PROJECT/langchain/venv/lib/python3.12/site-packages (from langchain-core<1.0.0,>=0.3.66->langchain) (1.33)\n",
      "Requirement already satisfied: packaging<25,>=23.2 in /home/acewriter/PROJECT/langchain/venv/lib/python3.12/site-packages (from langchain-core<1.0.0,>=0.3.66->langchain) (24.2)\n",
      "Requirement already satisfied: jsonpointer>=1.9 in /home/acewriter/PROJECT/langchain/venv/lib/python3.12/site-packages (from jsonpatch<2.0,>=1.33->langchain-core<1.0.0,>=0.3.66->langchain) (3.0.0)\n",
      "Requirement already satisfied: charset_normalizer<4,>=2 in /home/acewriter/PROJECT/langchain/venv/lib/python3.12/site-packages (from requests<3,>=2->langchain) (3.4.2)\n",
      "Requirement already satisfied: urllib3<3,>=1.21.1 in /home/acewriter/PROJECT/langchain/venv/lib/python3.12/site-packages (from requests<3,>=2->langchain) (2.5.0)\n",
      "Requirement already satisfied: greenlet>=1 in /home/acewriter/PROJECT/langchain/venv/lib/python3.12/site-packages (from SQLAlchemy<3,>=1.4->langchain) (3.2.3)\n",
      "Requirement already satisfied: numpy<3.0,>=1.25.0 in /home/acewriter/PROJECT/langchain/venv/lib/python3.12/site-packages (from faiss-cpu) (2.3.1)\n",
      "Requirement already satisfied: orjson<4.0.0,>=3.9.14 in /home/acewriter/PROJECT/langchain/venv/lib/python3.12/site-packages (from langsmith>=0.1.17->langchain) (3.10.18)\n",
      "Requirement already satisfied: requests-toolbelt<2.0.0,>=1.0.0 in /home/acewriter/PROJECT/langchain/venv/lib/python3.12/site-packages (from langsmith>=0.1.17->langchain) (1.0.0)\n",
      "Requirement already satisfied: zstandard<0.24.0,>=0.23.0 in /home/acewriter/PROJECT/langchain/venv/lib/python3.12/site-packages (from langsmith>=0.1.17->langchain) (0.23.0)\n"
     ]
    }
   ],
   "source": [
    "!pip install openai langchain faiss-cpu\n"
   ]
  },
  {
   "cell_type": "code",
   "execution_count": 2,
   "id": "1f6434d0",
   "metadata": {},
   "outputs": [],
   "source": [
    "from langchain.embeddings import OpenAIEmbeddings\n",
    "from langchain.vectorstores import FAISS\n",
    "from langchain.document_loaders import TextLoader\n",
    "from langchain.text_splitter import CharacterTextSplitter\n",
    "from langchain.chains import RetrievalQA\n",
    "from langchain.llms import OpenAI\n",
    "import os\n"
   ]
  },
  {
   "cell_type": "code",
   "execution_count": 3,
   "id": "18fdb365",
   "metadata": {},
   "outputs": [],
   "source": [
    "sample_text = \"\"\"\n",
    "Oracle compliance involves ensuring user access to data is tracked and aligned with audit policies.\n",
    "Audit logs must be retained for 7 years. Access to sensitive columns must be masked.\n",
    "\"\"\"\n",
    "with open(\"oracle_compliance.txt\", \"w\") as f:\n",
    "    f.write(sample_text)\n"
   ]
  },
  {
   "cell_type": "code",
   "execution_count": 4,
   "id": "62cc5369",
   "metadata": {},
   "outputs": [],
   "source": [
    "loader = TextLoader(\"oracle_compliance.txt\")\n",
    "docs = loader.load()\n",
    "\n",
    "splitter = CharacterTextSplitter(chunk_size=100, chunk_overlap=0)\n",
    "docs_split = splitter.split_documents(docs)\n"
   ]
  },
  {
   "cell_type": "code",
   "execution_count": 6,
   "id": "44468b21",
   "metadata": {},
   "outputs": [],
   "source": [
    "from langchain.llms.base import LLM\n",
    "from typing import List, Optional\n",
    "from pydantic import BaseModel\n",
    "\n",
    "class DummyLLM(LLM, BaseModel):\n",
    "    response: str = \"Simulated answer from AI model based on retrieved chunks.\"\n",
    "\n",
    "    def _call(self, prompt: str, stop: Optional[List[str]] = None) -> str:\n",
    "        return self.response\n",
    "\n",
    "    @property\n",
    "    def _identifying_params(self):\n",
    "        return {}\n",
    "\n",
    "    @property\n",
    "    def _llm_type(self):\n",
    "        return \"dummy\"\n",
    "\n"
   ]
  },
  {
   "cell_type": "code",
   "execution_count": 8,
   "id": "9a41995c",
   "metadata": {},
   "outputs": [],
   "source": [
    "import numpy as np\n"
   ]
  },
  {
   "cell_type": "code",
   "execution_count": 9,
   "id": "1561c8a5",
   "metadata": {},
   "outputs": [],
   "source": [
    "from langchain.embeddings.base import Embeddings\n",
    "\n",
    "class DummyEmbeddings(Embeddings):\n",
    "    def embed_documents(self, texts):\n",
    "        return [np.random.rand(1536).tolist() for _ in texts]\n",
    "\n",
    "    def embed_query(self, text):\n",
    "        return np.random.rand(1536).tolist()\n"
   ]
  },
  {
   "cell_type": "code",
   "execution_count": 10,
   "id": "a0acb330",
   "metadata": {},
   "outputs": [],
   "source": [
    "embeddings = DummyEmbeddings()\n",
    "db = FAISS.from_documents(docs_split, embeddings)\n"
   ]
  },
  {
   "cell_type": "code",
   "execution_count": 13,
   "id": "c5e8fecf",
   "metadata": {},
   "outputs": [
    {
     "name": "stdout",
     "output_type": "stream",
     "text": [
      "Simulated AI Answer: Simulated answer from AI model based on retrieved chunks.\n"
     ]
    }
   ],
   "source": [
    "import numpy as np\n",
    "from langchain.embeddings.base import Embeddings\n",
    "\n",
    "class DummyEmbeddings(Embeddings):\n",
    "    def embed_documents(self, texts):\n",
    "        return [np.random.rand(1536).tolist() for _ in texts]\n",
    "\n",
    "    def embed_query(self, text):\n",
    "        return np.random.rand(1536).tolist()\n",
    "\n",
    "embeddings = DummyEmbeddings()\n",
    "db = FAISS.from_documents(docs_split, embeddings)\n",
    "\n",
    "llm = DummyLLM()\n",
    "\n",
    "retriever = db.as_retriever()\n",
    "qa = RetrievalQA.from_chain_type(llm=llm, retriever=retriever)\n",
    "\n",
    "query = \"What is the retention policy for Oracle audit logs?\"\n",
    "response = qa.run(query)\n",
    "\n",
    "print(\"Simulated AI Answer:\", response)\n"
   ]
  }
 ],
 "metadata": {
  "kernelspec": {
   "display_name": "Python 3",
   "language": "python",
   "name": "python3"
  },
  "language_info": {
   "codemirror_mode": {
    "name": "ipython",
    "version": 3
   },
   "file_extension": ".py",
   "mimetype": "text/x-python",
   "name": "python",
   "nbconvert_exporter": "python",
   "pygments_lexer": "ipython3",
   "version": "3.12.0"
  }
 },
 "nbformat": 4,
 "nbformat_minor": 5
}
